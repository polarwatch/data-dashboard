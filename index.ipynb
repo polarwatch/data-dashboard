{
  "cells": [
    {
      "cell_type": "raw",
      "metadata": {},
      "source": [
        "---\n",
        "title: CoastWatch-West Coast\n",
        "format:\n",
        "  dashboard:\n",
        "    logo: img/cw_logo.png\n",
        "    logo-alt: NOAA CoastWatch logo\n",
        "    scrolling: true\n",
        "---"
      ],
      "id": "8da6bf21"
    },
    {
      "cell_type": "code",
      "metadata": {},
      "source": [
        "#| label: load-packages\n",
        "import pandas as pd\n",
        "import requests\n",
        "import io\n",
        "from itables import show\n",
        "import datetime"
      ],
      "id": "load-packages",
      "execution_count": null,
      "outputs": []
    },
    {
      "cell_type": "code",
      "metadata": {},
      "source": [
        "#| label: load-data\n",
        "\n",
        "df = pd.read_csv(\"data/wcn_usage.csv\")\n",
        "df_crosswalk = pd.read_csv(\"data/wcn_log_crosswalk.csv\")\n",
        "\n",
        "# Columns for stats\n",
        "stats_cols = ['data_volume', 'requests', 'nc_req', 'dods_req', 'text_req',\n",
        "       'metadata_req', 'graph_req', 'json_req', 'mat_req', 'images_req',\n",
        "       'file_downloads_req', 'other_req', 'nc_volume', 'dods_volume',\n",
        "       'text_volume', 'metadata_volume', 'graph_volume', 'json_volume',\n",
        "       'mat_volume', 'images_volume', 'file_downloads_volume', 'other_size',\n",
        "       'requests_redirect', 'nc_req_redirect', 'dods_req_redirect',\n",
        "       'text_req_redirect', 'metadata_req_redirect', 'graph_req_redirect',\n",
        "       'json_req_redirect', 'mat_req_redirect', 'images_req_redirect',\n",
        "       'file_download_req_redirect', 'other_req_redirect', 'all_requests']\n",
        "\n",
        "# This year\n",
        "thisyear = datetime.date.today().year\n",
        "\n",
        "# Color \n",
        "colors = ['#003f5c', '#58508d', '#bc5090', '#ff6361', '#ffa600']"
      ],
      "id": "load-data",
      "execution_count": null,
      "outputs": []
    },
    {
      "cell_type": "code",
      "metadata": {},
      "source": [
        "#| label: prep-usage-data\n",
        "\n",
        "# Combine requests and redirect requests\n",
        "df['all_requests'] = df['requests'] + df['requests_redirect']\n",
        "\n",
        "# Add year and month to the df\n",
        "df['time'] = pd.to_datetime(df['time'], utc=True)\n",
        "df['year'] = df['time'].dt.year\n",
        "df['month'] = df['time'].dt.month\n",
        "\n",
        "# Merge log and cross walk (inner join)\n",
        "df_all = df.merge(df_crosswalk, on='dataset_id', how='inner')\n",
        "\n",
        "# Get all_dataset\n",
        "alldata = df[df['dataset_id'] == 'all_datasets']\n",
        "\n",
        "# Compute sum for all datasets\n",
        "alldata_sum = alldata.groupby(['year'])[stats_cols].sum().reset_index()\n",
        "\n",
        "# Compute mean stats for all dataset\n",
        "alldata_mean = alldata.groupby(['year'])[['unique_visitors']].mean().reset_index()\n",
        "\n",
        "# ValueBox items\n",
        "total_requests = alldata_sum.loc[alldata_sum['year'] == thisyear, 'requests'].iloc[0]\n",
        "total_redirect = alldata_sum.loc[alldata_sum['year'] == thisyear, 'requests_redirect'].iloc[0]\n",
        "unique_users = int(alldata_mean.loc[alldata_mean['year'] == thisyear, 'unique_visitors'].iloc[0])\n",
        "total_data = alldata_sum.loc[alldata_sum['year'] == thisyear, 'data_volume'].iloc[0]\n",
        "\n",
        "\n",
        "# Top 10 data for current year\n",
        "df_all_thisyear = df[df['year'] == thisyear].merge(df_crosswalk, on='dataset_id', how='inner')\n",
        "top10_thisyear = (df_all_thisyear.groupby('group_title', as_index=False)[['all_requests', 'requests_x', 'requests_redirect']]\n",
        "                  .sum(numeric_only=True)\n",
        "                  .nlargest(10, 'all_requests'))\n",
        "\n",
        "\n",
        "# Top 10 data for each year (based on current year top 10)\n",
        "top10_years = (df_all[df_all['group_title'].isin(top10_thisyear['group_title'])]\n",
        "              .groupby(['group_title', 'year'], as_index=False)[['all_requests']]\n",
        "              .sum())\n"
      ],
      "id": "prep-usage-data",
      "execution_count": null,
      "outputs": []
    },
    {
      "cell_type": "markdown",
      "metadata": {},
      "source": [
        "# Top 10 Data Request\n",
        "## Row {height=10%}\n",
        "\n",
        "::: {.valuebox icon=\"cloud-download-fill\" color=\"#d1d1d1\"}\n",
        "No. of Requests\n",
        "\n",
        "`{python} \"{:,}\".format(total_requests)`\n",
        "\n",
        ":::\n",
        "\n",
        "::: {.valuebox icon=\"database-down\" color=\"#e1dbd6\"}\n",
        "No. of Redirect Request\n",
        "\n",
        "`{python} \"{:,}\".format(total_redirect)`\n",
        "\n",
        ":::\n",
        "\n",
        "::: {.valuebox icon=\"database-down\" color=\"#e2e2e2\"}\n",
        "Data Volume (Mb)\n",
        "\n",
        "`{python} \"{:,}\".format(total_data)`\n",
        "\n",
        ":::\n",
        "\n",
        "::: {.valuebox icon=\"person-lines-fill\" color=\"#f9f6f2\"}\n",
        "Monthly Avg Users\n",
        "\n",
        "`{python} unique_users`\n",
        "\n",
        ":::\n",
        "\n",
        "\n",
        "## Row {height=40% .tabset}\n"
      ],
      "id": "592c47e4"
    },
    {
      "cell_type": "code",
      "metadata": {
        "title": "Top 10 Data Chart"
      },
      "source": [
        "import plotly.express as px\n",
        "\n",
        "top10_years['year'] = top10_years['year'].astype(str)\n",
        "top10_years = top10_years.sort_values(by='year')\n",
        "\n",
        "#sorted = top10_years.sort_values(by=['year', 'all_requests'], ascending=False)\n",
        "\n",
        "\n",
        "fig = px.bar(top10_years, x='group_title', y='all_requests', \n",
        "              color='year', labels={\"group_title\": \"Group Name\", \"all_requests\": \"Requests\"}, color_discrete_sequence=colors[::-1],barmode='group', width=None)\n",
        "\n",
        "fig.update_layout(autosize=True, \n",
        "       width=None, \n",
        "       height=None, \n",
        "       xaxis=dict(tickangle=15),\n",
        "       legend=dict(\n",
        "       orientation=\"h\",  # Horizontal orientation\n",
        "       yanchor=\"bottom\",\n",
        "       y=1.1,            # Position slightly above the plot area\n",
        "       xanchor=\"center\",\n",
        "       x=0.5,\n",
        "       font=dict(size=13))\n",
        "              )"
      ],
      "id": "55604f64",
      "execution_count": null,
      "outputs": []
    },
    {
      "cell_type": "code",
      "metadata": {
        "title": "Top 10 Data Table"
      },
      "source": [
        "wide_top10_years = top10_years.pivot(index='group_title', columns ='year', values='all_requests').reset_index()\n",
        "wide_top10_years.columns.name = None  # Remove the name from columns index if not needed\n",
        "wide_top10_years = (wide_top10_years\n",
        "              .rename_axis(None, axis=1)\n",
        "              .rename(columns={'group_title': 'Group Name'}))\n",
        "\n",
        "\n",
        "show(wide_top10_years)"
      ],
      "id": "a307f8bc",
      "execution_count": null,
      "outputs": []
    },
    {
      "cell_type": "markdown",
      "metadata": {},
      "source": [
        "## Row \n"
      ],
      "id": "275ef6d1"
    },
    {
      "cell_type": "code",
      "metadata": {
        "title": "Requests by File Type"
      },
      "source": [
        "import plotly.express as px\n",
        "df_req = alldata_sum[alldata_sum['year'] == thisyear].filter(regex='_req$')\n",
        "df_req.columns = df_req.columns.str.extract(r'^(.*)_req$')[0]\n",
        "df_req_long = df_req.reset_index(drop=True).melt(var_name='File Type', value_name='Requests')\n",
        "\n",
        "fig = px.pie(df_req_long, values='Requests', names='File Type', title='Request by file type')\n",
        "fig.show()\n"
      ],
      "id": "fb1b07c7",
      "execution_count": null,
      "outputs": []
    },
    {
      "cell_type": "code",
      "metadata": {
        "title": "Download (Kb) by File Type"
      },
      "source": [
        "import plotly.express as px\n",
        "df_volume= alldata_sum[alldata_sum['year'] == thisyear].filter(regex='_volume$')\n",
        "df_volume.columns = df_volume.columns.str.extract(r'^(.*)_volume$')[0]\n",
        "df_volume_long = df_volume.reset_index(drop=True).melt(var_name='File Type', value_name='Volume')\n",
        "fig = px.pie(df_volume_long, values='Volume', names='File Type')\n",
        "\n",
        "fig\n"
      ],
      "id": "73ccff80",
      "execution_count": null,
      "outputs": []
    },
    {
      "cell_type": "markdown",
      "metadata": {},
      "source": [
        "# SST\n"
      ],
      "id": "625804e7"
    },
    {
      "cell_type": "code",
      "metadata": {},
      "source": [
        "# Top 10\n",
        " \n",
        "df_all_thisyear = df[df['year'] == thisyear].merge(df_crosswalk, on='dataset_id', how='inner')\n",
        "top10_sst_thisyear = (df_all_thisyear[df_all_thisyear['var']=='sst'].groupby('group_title', as_index=False)[['all_requests', 'requests_x', 'requests_redirect']]\n",
        "                  .sum(numeric_only=True)\n",
        "                  .nlargest(10, 'all_requests'))\n",
        "\n",
        "\n",
        "# SST sumed by year and dataset_title\n",
        "df_sst = df_all[df_all['var'] == 'sst'].groupby(['year', 'dataset_title'], as_index=False).sum(numeric_only=True).reset_index()\n",
        "top10_sst = df_sst[df_sst['year'] == thisyear].nlargest(10, 'all_requests')\n",
        "sst_stats = df_sst[df_sst['year'] == thisyear].sum(numeric_only=True)\n",
        "\n",
        "\n",
        "# value box\n",
        "req_sst = sst_stats[sst_stats.index == 'all_requests'].item()\n",
        "user_sst = sst_stats[sst_stats.index == 'unique_visitors'].item()\n",
        "data_sst = sst_stats[sst_stats.index == 'data_volume_x'].item()\n",
        "\n",
        "# top10_sst chart\n",
        "top10_sst_years = (df_all[df_all['dataset_title'].isin(top10_sst['dataset_title'])]\n",
        "              .groupby(['dataset_title', 'year'], as_index=False)[['all_requests']]\n",
        "              .sum())\n",
        "\n",
        "# top10_sst data table\n",
        "#top10_sst.loc[:, ['year', 'dataset_title', 'all_requests']]\n",
        "top10_sst_wide = top10_sst_years.pivot(index='dataset_title', columns ='year', values='all_requests').reset_index()\n",
        "top10_sst_wide.columns.name = None\n",
        "top10_sst_wide = (top10_sst_wide\n",
        "              .rename_axis(None, axis=1)\n",
        "              .rename(columns={'dataset_title': 'Dataset Title'}))\n"
      ],
      "id": "c746f66b",
      "execution_count": null,
      "outputs": []
    },
    {
      "cell_type": "markdown",
      "metadata": {},
      "source": [
        "## Row {height=10%}\n",
        "\n",
        "\n",
        "::: {.valuebox icon=\"cloud-download-fill\" color=\"#d1d1d1\"}\n",
        "No. of Requests\n",
        "\n",
        "`{python} \"{:,}\".format(req_sst)`\n",
        "\n",
        ":::\n",
        "\n",
        "\n",
        "::: {.valuebox icon=\"database-down\" color=\"#e2e2e2\"}\n",
        "Data Volume (GB)\n",
        "\n",
        "`{python} \"{:,}\".format(data_sst)`\n",
        "\n",
        ":::\n",
        "\n",
        "::: {.valuebox icon=\"person-lines-fill\" color=\"#f9f6f2\"}\n",
        "Total Visitors\n",
        "\n",
        "`{python} int(user_sst)`\n",
        "\n",
        ":::\n",
        "\n",
        "\n",
        "## Row {height=30% .tabset}\n"
      ],
      "id": "52f4190c"
    },
    {
      "cell_type": "code",
      "metadata": {
        "title": "Top 10 SST"
      },
      "source": [
        "import plotly.express as px\n",
        "\n",
        "# top10_sst chart\n",
        "top10_sst_years['year'] = top10_years['year'].astype(str)\n",
        "#sorted = top10_sst_years.sort_values(by=['year', 'all_requests'], ascending=False)\n",
        "\n",
        "\n",
        "fig = px.bar(top10_sst_years, x='dataset_title', y='all_requests', \n",
        "              color='year', labels={\"dataset_title\": \"Dataset Name\", \"all_requests\": \"Requests\"}, color_discrete_sequence=colors[::-1],barmode='group', width=None)\n",
        "\n",
        "fig.update_layout(autosize=True, \n",
        "       width=None, \n",
        "       height=None, \n",
        "       xaxis=dict(tickangle=15),\n",
        "       legend=dict(\n",
        "       orientation=\"h\",  # Horizontal orientation\n",
        "       yanchor=\"bottom\",\n",
        "       y=1.1,            # Position slightly above the plot area\n",
        "       xanchor=\"center\",\n",
        "       x=0.5,\n",
        "       font=dict(size=13))\n",
        "              )\n",
        "# show(top10_years)"
      ],
      "id": "94e41400",
      "execution_count": null,
      "outputs": []
    },
    {
      "cell_type": "code",
      "metadata": {
        "title": "Top 10 Data Table"
      },
      "source": [
        "wide_top10_sst = top10_sst_years.pivot(index='dataset_title', columns ='year', values='all_requests').reset_index()\n",
        "wide_top10_sst.columns.name = None  # Remove the name from columns index if not needed\n",
        "wide_top10_sst = (wide_top10_sst\n",
        "              .rename_axis(None, axis=1)\n",
        "              .rename(columns={'dataset_title': 'Dataset Name'}))\n",
        "\n",
        "show(wide_top10_sst)"
      ],
      "id": "3d9baa1e",
      "execution_count": null,
      "outputs": []
    },
    {
      "cell_type": "markdown",
      "metadata": {},
      "source": [
        "# Wind\n"
      ],
      "id": "53a8fad1"
    },
    {
      "cell_type": "code",
      "metadata": {},
      "source": [
        "top10_wind_thisyear = (df_all_thisyear[df_all_thisyear['var']=='wind'].groupby('group_title', as_index=False)[['all_requests', 'requests_x', 'requests_redirect']]\n",
        "                  .sum(numeric_only=True)\n",
        "                  .nlargest(10, 'all_requests'))\n",
        "\n",
        "\n",
        "# wind sumed by year and dataset_title\n",
        "df_wind = df_all[df_all['var'] == 'wind'].groupby(['year', 'dataset_title'], as_index=False).sum(numeric_only=True).reset_index()\n",
        "top10_wind = df_wind[df_wind['year'] == thisyear].nlargest(10, 'all_requests')\n",
        "wind_stats = df_wind[df_wind['year'] == thisyear].sum(numeric_only=True)\n",
        "\n",
        "\n",
        "# value box\n",
        "req_wind = wind_stats[wind_stats.index == 'all_requests'].item()\n",
        "user_wind = wind_stats[wind_stats.index == 'unique_visitors'].item()\n",
        "data_wind = wind_stats[wind_stats.index == 'data_volume_x'].item()\n",
        "\n",
        "# top10_wind chart\n",
        "top10_wind_years = (df_all[df_all['dataset_title'].isin(top10_wind['dataset_title'])]\n",
        "              .groupby(['dataset_title', 'year'], as_index=False)[['all_requests']]\n",
        "              .sum())\n",
        "\n",
        "\n",
        "top10_wind_wide = top10_wind_years.pivot(index='dataset_title', columns ='year', values='all_requests').reset_index()\n",
        "top10_wind_wide.columns.name = None\n",
        "top10_wind_wide = (top10_wind_wide\n",
        "              .rename_axis(None, axis=1)\n",
        "              .rename(columns={'dataset_title': 'Dataset Title'}))\n"
      ],
      "id": "612b54d2",
      "execution_count": null,
      "outputs": []
    },
    {
      "cell_type": "markdown",
      "metadata": {},
      "source": [
        "## Row {height=10%}\n",
        "\n",
        "\n",
        "::: {.valuebox icon=\"cloud-download-fill\" color=\"#d1d1d1\"}\n",
        "No. of Requests\n",
        "\n",
        "`{python} \"{:,}\".format(req_wind)`\n",
        "\n",
        ":::\n",
        "\n",
        "\n",
        "::: {.valuebox icon=\"database-down\" color=\"#e2e2e2\"}\n",
        "Data Volume (GB)\n",
        "\n",
        "`{python} \"{:,}\".format(data_wind)`\n",
        "\n",
        ":::\n",
        "\n",
        "::: {.valuebox icon=\"person-lines-fill\" color=\"#f9f6f2\"}\n",
        "Total Visitors\n",
        "\n",
        "`{python} int(user_wind)`\n",
        "\n",
        ":::\n",
        "\n",
        " \n",
        "## Row {height=40% .tabset}\n"
      ],
      "id": "daae412f"
    },
    {
      "cell_type": "code",
      "metadata": {
        "title": "Top 10 wind"
      },
      "source": [
        "import plotly.express as px\n",
        "\n",
        "# top10_wind chart\n",
        "top10_wind_years['year'] = top10_years['year'].astype(str)\n",
        "#sorted = top10_wind_years.sort_values(by=['year', 'all_requests'], ascending=False)\n",
        "\n",
        "\n",
        "fig = px.bar(top10_wind_years, x='dataset_title', y='all_requests', \n",
        "              color='year', labels={\"dataset_title\": \"Dataset Name\", \"all_requests\": \"Requests\"}, color_discrete_sequence=colors[::-1],barmode='group', width=None)\n",
        "\n",
        "fig.update_layout(autosize=True, \n",
        "       width=None, \n",
        "       height=None, \n",
        "       xaxis=dict(tickangle=15),\n",
        "       legend=dict(\n",
        "       orientation=\"h\",  # Horizontal orientation\n",
        "       yanchor=\"bottom\",\n",
        "       y=1.1,            # Position slightly above the plot area\n",
        "       xanchor=\"center\",\n",
        "       x=0.5,\n",
        "       font=dict(size=13))\n",
        "              )\n",
        "# show(top10_years)"
      ],
      "id": "a457d9a1",
      "execution_count": null,
      "outputs": []
    },
    {
      "cell_type": "code",
      "metadata": {
        "title": "Top 10 Data Table"
      },
      "source": [
        "wide_top10_wind = top10_wind_years.pivot(index='dataset_title', columns ='year', values='all_requests').reset_index()\n",
        "wide_top10_wind.columns.name = None  # Remove the name from columns index if not needed\n",
        "wide_top10_wind = (wide_top10_wind\n",
        "              .rename_axis(None, axis=1)\n",
        "              .rename(columns={'dataset_title': 'Dataset Name'}))\n",
        "\n",
        "show(wide_top10_wind)"
      ],
      "id": "f02272bb",
      "execution_count": null,
      "outputs": []
    }
  ],
  "metadata": {
    "kernelspec": {
      "name": "python3",
      "language": "python",
      "display_name": "Python 3 (ipykernel)"
    }
  },
  "nbformat": 4,
  "nbformat_minor": 5
}